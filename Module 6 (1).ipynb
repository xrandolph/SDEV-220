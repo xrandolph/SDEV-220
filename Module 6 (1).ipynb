{
 "cells": [
  {
   "cell_type": "code",
   "execution_count": 1,
   "id": "dbf50d2c-3a64-471c-b050-588a981df87f",
   "metadata": {},
   "outputs": [],
   "source": [
    "from datetime import datetime\n",
    "\n",
    "# Get the current date as a string\n",
    "current_date = datetime.now().strftime(\"%Y-%m-%d\")\n",
    "\n",
    "\n",
    "with open(\"today.txt\", \"w\") as file:\n",
    "    file.write(current_date)\n"
   ]
  },
  {
   "cell_type": "code",
   "execution_count": 3,
   "id": "8a070d4e-4046-43b8-a7f6-77a79cdb2d91",
   "metadata": {},
   "outputs": [
    {
     "name": "stdout",
     "output_type": "stream",
     "text": [
      "2024-12-01\n"
     ]
    }
   ],
   "source": [
    "# Read the content of the text file into a string\n",
    "with open(\"today.txt\", \"r\") as file:\n",
    "    today_string = file.read()\n",
    "\n",
    "\n",
    "print(today_string)\n"
   ]
  },
  {
   "cell_type": "code",
   "execution_count": 5,
   "id": "d5c089e4-104b-4d11-8408-1e7e75618525",
   "metadata": {},
   "outputs": [
    {
     "name": "stdout",
     "output_type": "stream",
     "text": [
      "2024-12-01 00:00:00\n"
     ]
    }
   ],
   "source": [
    "from datetime import datetime\n",
    "\n",
    "\n",
    "today_string = \"2024-12-01\" \n",
    "\n",
    "\n",
    "parsed_date = datetime.strptime(today_string, \"%Y-%m-%d\")\n",
    "\n",
    "\n",
    "print(parsed_date)\n"
   ]
  },
  {
   "cell_type": "code",
   "execution_count": null,
   "id": "cdee58fe-177d-4053-8c88-d07ca1387035",
   "metadata": {},
   "outputs": [],
   "source": [
    "import multiprocessing\n",
    "import time\n",
    "import random\n",
    "from datetime import datetime\n",
    "\n",
    "def print_time():\n",
    "   \n",
    "    wait_time = random.uniform(0, 1)\n",
    "    time.sleep(wait_time)\n",
    "    \n",
    "  \n",
    "    current_time = datetime.now().strftime(\"%Y-%m-%d %H:%M:%S\")\n",
    "    print(f\"Process {multiprocessing.current_process().name} waited for {wait_time:.2f} seconds, current time: {current_time}\")\n",
    "\n",
    "def main():\n",
    "   \n",
    "    processes = []\n",
    "    \n",
    "    for _ in range(3):\n",
    "        process = multiprocessing.Process(target=print_time)\n",
    "        processes.append(process)\n",
    "        process.start()\n",
    "\n",
    "    \n",
    "    for process in processes:\n",
    "        process.join()\n",
    "\n",
    "if __name__ == \"__main__\":\n",
    "    main()\n"
   ]
  }
 ],
 "metadata": {
  "kernelspec": {
   "display_name": "Python 3 (ipykernel)",
   "language": "python",
   "name": "python3"
  },
  "language_info": {
   "codemirror_mode": {
    "name": "ipython",
    "version": 3
   },
   "file_extension": ".py",
   "mimetype": "text/x-python",
   "name": "python",
   "nbconvert_exporter": "python",
   "pygments_lexer": "ipython3",
   "version": "3.12.7"
  }
 },
 "nbformat": 4,
 "nbformat_minor": 5
}
