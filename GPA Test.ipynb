{
 "cells": [
  {
   "cell_type": "code",
   "execution_count": null,
   "id": "51113da6-f5cc-490e-bb86-0076352ea9f8",
   "metadata": {},
   "outputs": [
    {
     "name": "stdin",
     "output_type": "stream",
     "text": [
      "Enter your last name: (Enter ZZZ to quit)  Randolph\n",
      "Enter your first name:  Xavier\n",
      "Enter your GPA:  4.0\n"
     ]
    },
    {
     "name": "stdout",
     "output_type": "stream",
     "text": [
      "Xavier Randolph has made the Dean's List\n"
     ]
    }
   ],
   "source": [
    "#Xavier Randolph,GPA Tester, this program will take a students info and calculate if the theyve made the honor roll or deans list\n",
    "while True:\n",
    "    last_name = input(\"Enter your last name: (Enter ZZZ to quit) \")\n",
    "    if last_name == \"ZZZ\":\n",
    "        break\n",
    "\n",
    "    first_name = input(\"Enter your first name: \")\n",
    "    student_GPA = float(input(\"Enter your GPA: \"))\n",
    "    \n",
    "    if student_GPA > 3.5:\n",
    "        print(first_name + \" \" + last_name + \" has made the Dean's List\")\n",
    "    elif student_GPA > 3.25:\n",
    "        print(first_name + \" \" + last_name + \" has made the Honor Roll\")\n",
    "    elif student_GPA<3.25:\n",
    "        print(first_name + \" \" + last_name + \" has not made the list for either\")\n",
    "\n",
    "\n"
   ]
  },
  {
   "cell_type": "code",
   "execution_count": null,
   "id": "d12f2f03-0e69-4fe9-b593-e6f0cc22633b",
   "metadata": {},
   "outputs": [],
   "source": []
  }
 ],
 "metadata": {
  "kernelspec": {
   "display_name": "Python 3 (ipykernel)",
   "language": "python",
   "name": "python3"
  },
  "language_info": {
   "codemirror_mode": {
    "name": "ipython",
    "version": 3
   },
   "file_extension": ".py",
   "mimetype": "text/x-python",
   "name": "python",
   "nbconvert_exporter": "python",
   "pygments_lexer": "ipython3",
   "version": "3.12.7"
  }
 },
 "nbformat": 4,
 "nbformat_minor": 5
}
