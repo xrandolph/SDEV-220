{
 "cells": [
  {
   "cell_type": "code",
   "execution_count": 48,
   "id": "1d78c664-9c3f-4e54-bda5-96ebcfb43b0c",
   "metadata": {},
   "outputs": [
    {
     "name": "stdout",
     "output_type": "stream",
     "text": [
      "['MOZZARELLA', 'cinderella', 'salmonella']\n"
     ]
    }
   ],
   "source": [
    "things=[\"mozzarella\",\"cinderella\",\"salmonella\"]\n",
    "things[0]=things[0].upper()\n",
    "print(things)\n",
    "    "
   ]
  },
  {
   "cell_type": "code",
   "execution_count": 50,
   "id": "27f9a688-d482-415b-961d-187d16ca483a",
   "metadata": {},
   "outputs": [
    {
     "name": "stdout",
     "output_type": "stream",
     "text": [
      "['Harry', 'Ron', 'Hermoine']\n"
     ]
    }
   ],
   "source": [
    "def good():\n",
    "    names=[\"Harry\",\"Ron\", \"Hermoine\"]\n",
    "    print(names)\n",
    "good()"
   ]
  },
  {
   "cell_type": "code",
   "execution_count": 52,
   "id": "dbac68f9-fad3-4ef0-abbe-f2447725666a",
   "metadata": {},
   "outputs": [
    {
     "name": "stdout",
     "output_type": "stream",
     "text": [
      "The third odd value is: 5\n"
     ]
    }
   ],
   "source": [
    "\n",
    "def get_odds():\n",
    "    for num in range(10):\n",
    "        if num % 2 != 0:  \n",
    "            yield num\n",
    "\n",
    "\n",
    "odd_numbers = get_odds()\n",
    "third_value = None\n",
    "\n",
    "\n",
    "for i, value in enumerate(odd_numbers, start=1):\n",
    "    if i == 3:\n",
    "        third_value = value\n",
    "        break\n",
    "        \n",
    "print(\"The third odd value is:\", third_value)\n",
    "\n",
    "            "
   ]
  },
  {
   "cell_type": "code",
   "execution_count": null,
   "id": "c16d5173-fb2a-4bf2-b7c3-f5c718e40349",
   "metadata": {},
   "outputs": [],
   "source": []
  }
 ],
 "metadata": {
  "kernelspec": {
   "display_name": "Python 3 (ipykernel)",
   "language": "python",
   "name": "python3"
  },
  "language_info": {
   "codemirror_mode": {
    "name": "ipython",
    "version": 3
   },
   "file_extension": ".py",
   "mimetype": "text/x-python",
   "name": "python",
   "nbconvert_exporter": "python",
   "pygments_lexer": "ipython3",
   "version": "3.12.4"
  }
 },
 "nbformat": 4,
 "nbformat_minor": 5
}
