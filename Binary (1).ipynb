{
 "cells": [
  {
   "cell_type": "code",
   "execution_count": 3,
   "id": "9dd60cc3-4a0a-4361-ae2d-2e0f1da5b81a",
   "metadata": {},
   "outputs": [],
   "source": [
    "\n",
    "class Solution:\n",
    "    def binarysearch(self, arr, k):\n",
    "        # Code Here\n",
    "        low, high = 0, len(arr) - 1  \n",
    "\n",
    "        while low <= high:\n",
    "            mid = (low + high) // 2 \n",
    "\n",
    "            if arr[mid] == k:\n",
    "                return mid  \n",
    "            elif arr[mid] < k:\n",
    "                low = mid + 1  \n",
    "            else:\n",
    "                high = mid - 1  \n",
    "\n",
    "        return -1  "
   ]
  },
  {
   "cell_type": "code",
   "execution_count": null,
   "id": "cff17be3-215e-4e08-8653-fdc56144e28a",
   "metadata": {},
   "outputs": [],
   "source": []
  },
  {
   "cell_type": "code",
   "execution_count": null,
   "id": "cbaaaeaf-5542-41ef-9481-59a5b164a8a1",
   "metadata": {},
   "outputs": [],
   "source": []
  },
  {
   "cell_type": "code",
   "execution_count": null,
   "id": "db4f59b5-336a-48a3-ad73-949f9d3bb7bd",
   "metadata": {},
   "outputs": [],
   "source": []
  }
 ],
 "metadata": {
  "kernelspec": {
   "display_name": "Python 3 (ipykernel)",
   "language": "python",
   "name": "python3"
  },
  "language_info": {
   "codemirror_mode": {
    "name": "ipython",
    "version": 3
   },
   "file_extension": ".py",
   "mimetype": "text/x-python",
   "name": "python",
   "nbconvert_exporter": "python",
   "pygments_lexer": "ipython3",
   "version": "3.12.7"
  }
 },
 "nbformat": 4,
 "nbformat_minor": 5
}
